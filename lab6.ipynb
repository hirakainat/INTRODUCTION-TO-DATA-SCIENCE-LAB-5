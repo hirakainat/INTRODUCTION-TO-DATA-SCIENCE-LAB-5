{
  "nbformat": 4,
  "nbformat_minor": 0,
  "metadata": {
    "colab": {
      "private_outputs": true,
      "provenance": []
    },
    "kernelspec": {
      "name": "python3",
      "display_name": "Python 3"
    },
    "language_info": {
      "name": "python"
    }
  },
  "cells": [
    {
      "cell_type": "code",
      "execution_count": null,
      "metadata": {
        "id": "wwtIDRWKgTIX"
      },
      "outputs": [],
      "source": [
        "\n",
        "#detecting missing values\n",
        "#first of all i uploaded the file then load the data set\n",
        "import pandas as pd\n",
        "data = {\n",
        "    'Name': ['Alice', 'Bob', 'Charlie', None, 'Eve'],\n",
        "    'Age': [25, None, 30, 22, 29],\n",
        "    'City': ['New York', None, 'Los Angeles', 'Chicago', 'Houston'],\n",
        "    'Salary': [70000, 80000, None, 50000, None]\n",
        "}\n",
        "df = pd.DataFrame(data)\n",
        "\n",
        "#now missing values finding\n",
        "print(df.isna())# in the output where false occure it means the value is  not missing\n",
        "print(df.isnull())#working same a s that of isnull\n",
        "print(df.notna())\n",
        "print(df.notnull())\n",
        "new_data_set=df.dropna()# dropping rows\n",
        "print(new_data_set)"
      ]
    },
    {
      "cell_type": "code",
      "source": [
        "import pandas as pd\n",
        "import numpy as np\n",
        "\n",
        "df = pd.DataFrame({\"A\": [np.nan, 2], \"B\": [3, 4], \"C\": [5, 6]})\n",
        "df\n",
        "new_data = df.dropna()\n",
        "\n",
        "print(new_data)\n",
        "df.dropna(axis=\"columns\")\n"
      ],
      "metadata": {
        "id": "Yc0YuTGohh3G"
      },
      "execution_count": null,
      "outputs": []
    },
    {
      "cell_type": "code",
      "source": [
        "import pandas as pd\n",
        "import numpy as np\n",
        "\n",
        "df = pd.DataFrame({\"A\": [np.nan, 2], \"B\": [3, 4], \"C\": [np.nan, np.nan]})\n",
        "print(df)\n",
        "df.dropna(how=\"all\",axis=\"columns\")"
      ],
      "metadata": {
        "id": "ImSwUoMzilv5"
      },
      "execution_count": null,
      "outputs": []
    },
    {
      "cell_type": "code",
      "source": [
        "import pandas as pd\n",
        "import numpy as np\n",
        "\n",
        "df = pd.DataFrame({\"A\": [np.nan, 2], \"B\": [3, 4], \"C\": [np.nan, np.nan]})\n",
        "print(df)\n",
        "df.dropna(thresh=2, axis=1)"
      ],
      "metadata": {
        "id": "KAn6QFFkmmfv"
      },
      "execution_count": null,
      "outputs": []
    },
    {
      "cell_type": "code",
      "source": [
        "import pandas as pd\n",
        "import numpy as np\n",
        "\n",
        "df = pd.DataFrame({\"A\": [np.nan, 2], \"B\": [3, 4], \"C\": [np.nan, np.nan]})\n",
        "df.dropna(subset=[1], axis=1)"
      ],
      "metadata": {
        "id": "j12qdh7NnUs3"
      },
      "execution_count": null,
      "outputs": []
    },
    {
      "cell_type": "code",
      "source": [
        "import pandas as pd\n",
        "import numpy as np\n",
        "\n",
        "df = pd.DataFrame({\"A\": [np.nan, 2], \"B\": [3, 4], \"C\": [5,6]})\n",
        "df.dropna(inplace=True)\n",
        "df"
      ],
      "metadata": {
        "id": "xnwU5F4zobRH"
      },
      "execution_count": null,
      "outputs": []
    },
    {
      "cell_type": "code",
      "source": [
        "import pandas as pd\n",
        "import numpy as np\n",
        "\n",
        "df = pd.DataFrame({\"A\": [None,5,6], \"B\": [7,None,8], \"C\": [9,None,None]})\n",
        "df.fillna(10)\n",
        "df.fillna({\"A\":\"\",\"C\":10})\n",
        "df.fillna(method=\"bfill\")\n"
      ],
      "metadata": {
        "id": "vLdXJe_Yoxgw"
      },
      "execution_count": null,
      "outputs": []
    },
    {
      "cell_type": "code",
      "source": [
        "import pandas as pd\n",
        "import numpy as np\n",
        "\n",
        "df = pd.DataFrame({\"A\": [None,5,6], \"B\": [7,None,8], \"C\": [9,None,None]})\n",
        "df.fillna(10)\n",
        "df.fillna({\"A\":\"\",\"C\":10})\n",
        "df.fillna(method=\"ffill\")"
      ],
      "metadata": {
        "id": "YcJ14u8Iq8Vw"
      },
      "execution_count": null,
      "outputs": []
    },
    {
      "cell_type": "code",
      "source": [
        "import pandas as pd\n",
        "import numpy as np\n",
        "\n",
        "df = pd.DataFrame({\"A\": [None,5,6], \"B\": [7,None,8], \"C\": [9,None,None]})\n",
        "df.fillna(10)\n",
        "df.fillna({\"A\":\"\",\"C\":10})\n",
        "df.fillna(method=\"ffill\",axis=1)"
      ],
      "metadata": {
        "id": "3zR0HONZrt-P"
      },
      "execution_count": null,
      "outputs": []
    },
    {
      "cell_type": "code",
      "source": [
        "import pandas as pd\n",
        "import numpy as np\n",
        "\n",
        "df = pd.DataFrame({\"A\": [None,5,6], \"B\": [7,None,8], \"C\": [9,None,None]})\n",
        "df.fillna(10)\n",
        "df.fillna({\"A\":\"\",\"C\":10})\n",
        "df.fillna(method=\"ffill\",limit=1)"
      ],
      "metadata": {
        "id": "P5RDGPOXr_VJ"
      },
      "execution_count": null,
      "outputs": []
    },
    {
      "cell_type": "code",
      "source": [
        "import pandas as pd\n",
        "import numpy as np\n",
        "\n",
        "df = pd.DataFrame({\"A\": [None,5,6], \"B\": [7,None,8], \"C\": [9,None,None]})\n",
        "df.fillna(10)\n",
        "df.fillna({\"A\":\"\",\"C\":10})\n",
        "df.fillna(2,limit=1)"
      ],
      "metadata": {
        "id": "ObxmQycZsM5D"
      },
      "execution_count": null,
      "outputs": []
    },
    {
      "cell_type": "code",
      "source": [
        "import pandas as pd\n",
        "import numpy as np\n",
        "\n",
        "df = pd.DataFrame({\"A\": [None, 5, 6], \"B\": [7, None, 8], \"C\": [9, None, None]})\n",
        "\n",
        "df_filled_1 = df.fillna(10)\n",
        "print(\"DataFrame after filling NaN with 10:\\n\", df_filled_1)\n",
        "\n",
        "df_filled_2 = df.fillna({\"A\": \"\", \"C\": 10})\n",
        "print(\"\\nDataFrame after filling column A with '' and column C with 10:\\n\", df_filled_2)\n",
        "\n",
        "mean_imputed_df = df.fillna(df.mean())\n",
        "print(\"\\nDataFrame after filling NaN with column means:\\n\", mean_imputed_df)\n"
      ],
      "metadata": {
        "id": "UYqWtqpdsmt9"
      },
      "execution_count": null,
      "outputs": []
    },
    {
      "cell_type": "code",
      "source": [
        "import pandas as pd\n",
        "import numpy as np\n",
        "\n",
        "df = pd.DataFrame({\"A\": [None, 5, 6], \"B\": [7, None, 8], \"C\": [9, None, None]})\n",
        "\n",
        "df_filled_1 = df.fillna(10)\n",
        "print(\"DataFrame after filling NaN with 10:\\n\", df_filled_1)\n",
        "\n",
        "df_filled_2 = df.fillna({\"A\": \"\", \"C\": 10})\n",
        "print(\"\\nDataFrame after filling column A with '' and column C with 10:\\n\", df_filled_2)\n",
        "\n",
        "median_imputed_df = df.fillna(df.median())\n",
        "print(\"\\nDataFrame after filling NaN with column means:\\n\", median_imputed_df)\n"
      ],
      "metadata": {
        "id": "MJRBMixHuGn7"
      },
      "execution_count": null,
      "outputs": []
    },
    {
      "cell_type": "code",
      "source": [
        "import pandas as pd\n",
        "import numpy as np\n",
        "\n",
        "df = pd.DataFrame({\"A\": [None, 5, 6], \"B\": [7, None, 8], \"C\": [9, None, None]})\n",
        "\n",
        "df_filled_1 = df.fillna(10)\n",
        "print(\"DataFrame after filling NaN with 10:\\n\", df_filled_1)\n",
        "\n",
        "df_filled_2 = df.fillna({\"A\": \"\", \"C\": 10})\n",
        "print(\"\\nDataFrame after filling column A with '' and column C with 10:\\n\", df_filled_2)\n",
        "\n",
        "mode_imputed_df = df.fillna(df.mode().iloc[0])\n",
        "print(\"\\nDataFrame after filling NaN with column mode:\\n\", mode_imputed_df)\n"
      ],
      "metadata": {
        "id": "ql0z5E23uT9q"
      },
      "execution_count": null,
      "outputs": []
    },
    {
      "cell_type": "code",
      "source": [
        "import pandas as pd\n",
        "import numpy as np\n",
        "\n",
        "df = pd.DataFrame({\"A\": [1,2], \"B\": [3,4]})\n",
        "df.replace(1,5)"
      ],
      "metadata": {
        "id": "SAE9V5yIvHAR"
      },
      "execution_count": null,
      "outputs": []
    },
    {
      "cell_type": "code",
      "source": [
        "import pandas as pd\n",
        "import numpy as np\n",
        "\n",
        "df = pd.DataFrame({\"A\": [1,2], \"B\": [3,4]})\n",
        "df.replace([1,2],5)"
      ],
      "metadata": {
        "id": "xJ3wHixbvkY3"
      },
      "execution_count": null,
      "outputs": []
    },
    {
      "cell_type": "code",
      "source": [
        "import pandas as pd\n",
        "import numpy as np\n",
        "\n",
        "df = pd.DataFrame({\"A\": [1,2], \"B\": [3,4]})\n",
        "df.replace([1,2],[5,6])"
      ],
      "metadata": {
        "id": "Jc1gVnVGvp_8"
      },
      "execution_count": null,
      "outputs": []
    },
    {
      "cell_type": "code",
      "source": [
        "import pandas as pd\n",
        "import numpy as np\n",
        "\n",
        "df = pd.DataFrame({\"A\": [1,2], \"B\": [3,4]})\n",
        "df.replace({1:5,3:6})"
      ],
      "metadata": {
        "id": "foZqcjB2wIJM"
      },
      "execution_count": null,
      "outputs": []
    },
    {
      "cell_type": "code",
      "source": [
        "import pandas as pd\n",
        "import numpy as np\n",
        "\n",
        "df = pd.DataFrame({\"A\": [\"ali\",\"bob\"], \"B\": [\"cathy\",\"doge\"]})\n",
        "df.replace(\"a\",\"erric\",regex=True)"
      ],
      "metadata": {
        "id": "OT4MnmFswaFU"
      },
      "execution_count": null,
      "outputs": []
    },
    {
      "cell_type": "code",
      "source": [
        "import pandas as pd\n",
        "import numpy as np\n",
        "\n",
        "df = pd.DataFrame({\"A\": [1,2], \"B\": [1,2]})\n",
        "df.replace({\"A\":1},3)\n"
      ],
      "metadata": {
        "id": "UHPU7fZIw-RP"
      },
      "execution_count": null,
      "outputs": []
    },
    {
      "cell_type": "code",
      "source": [
        "import pandas as pd\n",
        "import numpy as np\n",
        "\n",
        "df = pd.DataFrame({\"A\": [1,2], \"B\": [3,4]})\n",
        "DF.replace({\"A\":{1:5,2:6})\n"
      ],
      "metadata": {
        "id": "RZ-dEL1Axw2T"
      },
      "execution_count": null,
      "outputs": []
    },
    {
      "cell_type": "code",
      "source": [
        "import pandas as pd\n",
        "import numpy as np\n",
        "\n",
        "df = pd.DataFrame({\"A\": [\"a\",\"b\",\"c\"]})\n",
        "df.replace(\"b\", method=\"ffill\")"
      ],
      "metadata": {
        "id": "EP5arDEuyQwE"
      },
      "execution_count": null,
      "outputs": []
    },
    {
      "cell_type": "code",
      "source": [
        "import pandas as pd\n",
        "import numpy as np\n",
        "\n",
        "df = pd.DataFrame({\"A\": [\"a\",\"b\",\"c\"]})\n",
        "df.replace(\"b\", method=\"bfill\")"
      ],
      "metadata": {
        "id": "dDvPbl_XzzYl"
      },
      "execution_count": null,
      "outputs": []
    },
    {
      "cell_type": "code",
      "source": [
        "import pandas as pd\n",
        "import numpy as np\n",
        "\n",
        "df = pd.DataFrame({\"A\": [\"a\",\"b\",\"c\"]})\n",
        "df.replace(\"b\", method=\"bfill\",limit=1)"
      ],
      "metadata": {
        "id": "5x0WnAjn0JMu"
      },
      "execution_count": null,
      "outputs": []
    },
    {
      "cell_type": "code",
      "source": [
        "import pandas as pd\n",
        "import numpy as np\n",
        "\n",
        "df = pd.DataFrame({\"A\": [1,2], \"B\": [3,4]})\n",
        "df.replace(1, 5, inplace=True)"
      ],
      "metadata": {
        "id": "KB1a-YFn0P7u"
      },
      "execution_count": null,
      "outputs": []
    },
    {
      "cell_type": "code",
      "source": [
        "import pandas as pd\n",
        "import numpy as np\n",
        "\n",
        "df = pd.DataFrame({\"A\": [3,np.nan, 5, 6], \"B\": [1,5,np.nan,9], \"C\": [1,5,np.nan,np.nan]})\n",
        "df.interpolate()\n"
      ],
      "metadata": {
        "id": "3f4GjTDu0izJ"
      },
      "execution_count": null,
      "outputs": []
    },
    {
      "cell_type": "code",
      "source": [
        "import pandas as pd\n",
        "import numpy as np\n",
        "\n",
        "df = pd.DataFrame({\"A\": [3,np.nan, 5, 6], \"B\": [1,5,np.nan,9], \"C\": [1,5,np.nan,np.nan]})\n",
        "df.interpolate(axis=1)\n"
      ],
      "metadata": {
        "id": "tklqar0F1WA0"
      },
      "execution_count": null,
      "outputs": []
    },
    {
      "cell_type": "code",
      "source": [
        "import pandas as pd\n",
        "import numpy as np\n",
        "df = pd.DataFrame({\"B\":[5,np.nan,9]}, index=[5,10,30])\n",
        "df.interpolate(mmethod=\"index\")\n"
      ],
      "metadata": {
        "id": "t0r6ebUc1dTL"
      },
      "execution_count": null,
      "outputs": []
    },
    {
      "cell_type": "code",
      "source": [
        "index_date = pd.to_datetime([\"2020-12-01\",\"2020-12-02\", \"2020-12-15\", \"2020-12-31\"])\n",
        "df = pd.DataFrame({\"A\":[1,np.nan,np.nan,31]}, index=index_date)\n",
        "df\n",
        "df.interpolate()"
      ],
      "metadata": {
        "id": "46aOQpgH2MFR"
      },
      "execution_count": null,
      "outputs": []
    },
    {
      "cell_type": "code",
      "source": [
        "index_date = pd.to_datetime([\"2020-12-01\",\"2020-12-02\", \"2020-12-15\", \"2020-12-31\"])\n",
        "df = pd.DataFrame({\"A\":[1,np.nan,np.nan,31]}, index=index_date)\n",
        "df\n",
        "df.interpolate(method=\"time\")"
      ],
      "metadata": {
        "id": "_TEasJhE2-XX"
      },
      "execution_count": null,
      "outputs": []
    },
    {
      "cell_type": "code",
      "source": [
        "import pandas as pd\n",
        "import numpy as np\n",
        "\n",
        "df = pd.DataFrame({\"A\": [3,np.nan, 5, 6], \"B\": [1,5,np.nan,9], \"C\": [1,5,np.nan,np.nan]})\n",
        "df.interpolate(limit_direction=\"backward\")"
      ],
      "metadata": {
        "id": "c7C8Eiw03J35"
      },
      "execution_count": null,
      "outputs": []
    },
    {
      "cell_type": "code",
      "source": [
        "import pandas as pd\n",
        "import numpy as np\n",
        "\n",
        "df = pd.DataFrame({\"A\": [3,np.nan, 5, 6], \"B\": [1,5,np.nan,9], \"C\": [1,5,np.nan,np.nan]})\n",
        "df.interpolate(limit_direction=\"both\")"
      ],
      "metadata": {
        "id": "40ALt4C43VNh"
      },
      "execution_count": null,
      "outputs": []
    },
    {
      "cell_type": "code",
      "source": [
        "import pandas as pd\n",
        "import numpy as np\n",
        "\n",
        "df = pd.DataFrame({\"A\": [np.nan,5], \"B\": [5,np.nan]})\n",
        "df.interpolate()\n",
        "\n",
        "df.interpolate().dtypes\n"
      ],
      "metadata": {
        "id": "KVmyIXE-3Xjq"
      },
      "execution_count": null,
      "outputs": []
    },
    {
      "cell_type": "code",
      "source": [
        "import pandas as pd\n",
        "import numpy as np\n",
        "\n",
        "df = pd.DataFrame({\"A\": [np.nan,5], \"B\": [5,np.nan]})\n",
        "df.interpolate(downcast=infer).dtypes"
      ],
      "metadata": {
        "id": "0qJqj-Lv4NY7"
      },
      "execution_count": null,
      "outputs": []
    },
    {
      "cell_type": "code",
      "source": [
        "import pandas as pd\n",
        "\n",
        "data = {\n",
        "    'Name': ['Alice', 'Bob', 'Charlie', 'Alice', 'Eve', 'Bob'],\n",
        "    'Age': [25, 30, 35, 25, 40, 30],\n",
        "    'City': ['New York', 'Los Angeles', 'Chicago', 'New York', 'Houston', 'Los Angeles']\n",
        "}\n",
        "\n",
        "df = pd.DataFrame(data)\n",
        "\n",
        "df_no_duplicates = df.drop_duplicates()\n",
        "\n",
        "print(df_no_duplicates)\n"
      ],
      "metadata": {
        "id": "S5nU3F3t4sGk"
      },
      "execution_count": null,
      "outputs": []
    },
    {
      "cell_type": "code",
      "source": [
        "import pandas as pd\n",
        "\n",
        "data = {\n",
        "    'Name': ['Alice', 'Bob', 'Charlie', 'Alice', 'Eve', 'Bob'],\n",
        "    'Age': [25, 30, 35, 25, 40, 30],\n",
        "    'City': ['New York', 'Los Angeles', 'Chicago', 'New York', 'Houston', 'Los Angeles']\n",
        "}\n",
        "\n",
        "df = pd.DataFrame(data)\n",
        "\n",
        "df_no_duplicates = df.drop_duplicates()\n",
        "\n",
        "df_subset_no_duplicates = df.drop_duplicates(subset=['Name', 'Age'])\n",
        "\n",
        "print( df_no_duplicates)\n",
        "print( df_subset_no_duplicates)\n",
        "\n"
      ],
      "metadata": {
        "id": "K8tHUJbx6ZDk"
      },
      "execution_count": null,
      "outputs": []
    },
    {
      "cell_type": "code",
      "source": [
        "import pandas as pd\n",
        "from scipy import stats\n",
        "\n",
        "data = {\n",
        "    'height': [150, 160, 165, 170, 175, 180, 190],\n",
        "    'weight': [50, 55, 60, 65, 70, 80, 85],\n",
        "    'age': [22, 25, 30, 35, 40, 45, 50]\n",
        "}\n",
        "\n",
        "df = pd.DataFrame(data)\n",
        "\n",
        "z_scores = stats.zscore(df[['height', 'weight', 'age']])\n",
        "\n",
        "z_scores_df = pd.DataFrame(z_scores, columns=['height_z', 'weight_z', 'age_z'])\n",
        "\n",
        "df_with_z_scores = pd.concat([df, z_scores_df], axis=1)\n",
        "\n",
        "df_outliers = df_with_z_scores[(z_scores_df > 3).any(axis=1) | (z_scores_df < -3).any(axis=1)]\n",
        "\n",
        "print(df_outliers)\n"
      ],
      "metadata": {
        "id": "9w8Ko6BN6tI8"
      },
      "execution_count": null,
      "outputs": []
    },
    {
      "cell_type": "code",
      "source": [
        "import pandas as pd\n",
        "\n",
        "# Creating a DataFrame with some sample numerical data\n",
        "data = {\n",
        "    'height': [150, 160, 165, 170, 175, 180, 190],\n",
        "    'weight': [50, 55, 60, 65, 70, 80, 85],\n",
        "    'age': [22, 25, 30, 35, 40, 45, 50]\n",
        "}\n",
        "\n",
        "df = pd.DataFrame(data)\n",
        "\n",
        "Q1 = df[['height', 'weight', 'age']].quantile(0.25)\n",
        "Q3 = df[['height', 'weight', 'age']].quantile(0.75)\n",
        "\n",
        "IQR = Q3 - Q1\n",
        "\n",
        "lower_bound = Q1 - 1.5 * IQR\n",
        "upper_bound = Q3 + 1.5 * IQR\n",
        "\n",
        "outliers = (df[['height', 'weight', 'age']] < lower_bound) | (df[['height', 'weight', 'age']] > upper_bound)\n",
        "iqr = df[outliers.any(axis=1)]\n",
        "\n",
        "\n",
        "print(iqr)\n"
      ],
      "metadata": {
        "id": "wLfVIPgL9SCX"
      },
      "execution_count": null,
      "outputs": []
    }
  ]
}